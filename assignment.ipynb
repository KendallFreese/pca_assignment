{
  "cells": [
    {
      "cell_type": "markdown",
      "metadata": {
        "id": "rb5QQRb7BMWg"
      },
      "source": [
        "## PCA and Text Analysis\n",
        "\n",
        "This assignment involves processing real e-mails, some of which are scams.\n",
        "\n",
        "Fair warning: Some of these scam e-mails have offensive content. If you start reading the e-mail text or the token data, you might read something offensive. If that's a problem, feel free to e-mail me, and we can talk about it and discuss how to proceed with alternative tasks."
      ]
    },
    {
      "cell_type": "markdown",
      "metadata": {
        "id": "idHEenWdBMWi"
      },
      "source": [
        "### Q1.\n",
        "\n",
        "**Tokens**: The individual words or symbols that create text data like emails. Natural Language Processing is primarily about analyzing the frequency and co-occurrence of tokens.\n",
        "\n",
        "I aggregated all the emails into a single vector, and removed the punctuation and very common words (e.g. \"the\"). Run the below code chunk to open it, and use the Counter class to look at the most common words:"
      ]
    },
    {
      "cell_type": "code",
      "source": [
        "import pickle\n",
        "import pandas as pd\n",
        "import urllib.request\n",
        "import matplotlib.pyplot as plt\n",
        "\n",
        "\n",
        "# url to get github data\n",
        "url = \"https://raw.githubusercontent.com/KendallFreese/pca_assignment/main/data/all_tokens.pickle\"\n",
        "\n",
        "# open url and perform given actions\n",
        "with urllib.request.urlopen(url) as response:\n",
        "    all_tokens = pickle.load(response)\n",
        "\n",
        "from collections import Counter\n",
        "token_count = Counter(all_tokens)\n",
        "token_freq = token_count.most_common()\n",
        "token_counts = pd.Series(all_tokens).value_counts()\n",
        "token_counts.head(20)"
      ],
      "metadata": {
        "id": "D5OqUTiyk4Lw",
        "outputId": "e1351758-4a91-411e-fe0d-0624eef22752",
        "colab": {
          "base_uri": "https://localhost:8080/",
          "height": 711
        }
      },
      "execution_count": 6,
      "outputs": [
        {
          "output_type": "execute_result",
          "data": {
            "text/plain": [
              "new            1365\n",
              "date           1202\n",
              "get            1052\n",
              "please         1022\n",
              "enron           927\n",
              "like            923\n",
              "2002            869\n",
              "would           806\n",
              "one             798\n",
              "message         795\n",
              "call            740\n",
              "free            691\n",
              "software        680\n",
              "dear            651\n",
              "know            644\n",
              "email           629\n",
              "url:            625\n",
              "time            609\n",
              "start           604\n",
              "linguistics     598\n",
              "Name: count, dtype: int64"
            ],
            "text/html": [
              "<div>\n",
              "<style scoped>\n",
              "    .dataframe tbody tr th:only-of-type {\n",
              "        vertical-align: middle;\n",
              "    }\n",
              "\n",
              "    .dataframe tbody tr th {\n",
              "        vertical-align: top;\n",
              "    }\n",
              "\n",
              "    .dataframe thead th {\n",
              "        text-align: right;\n",
              "    }\n",
              "</style>\n",
              "<table border=\"1\" class=\"dataframe\">\n",
              "  <thead>\n",
              "    <tr style=\"text-align: right;\">\n",
              "      <th></th>\n",
              "      <th>count</th>\n",
              "    </tr>\n",
              "  </thead>\n",
              "  <tbody>\n",
              "    <tr>\n",
              "      <th>new</th>\n",
              "      <td>1365</td>\n",
              "    </tr>\n",
              "    <tr>\n",
              "      <th>date</th>\n",
              "      <td>1202</td>\n",
              "    </tr>\n",
              "    <tr>\n",
              "      <th>get</th>\n",
              "      <td>1052</td>\n",
              "    </tr>\n",
              "    <tr>\n",
              "      <th>please</th>\n",
              "      <td>1022</td>\n",
              "    </tr>\n",
              "    <tr>\n",
              "      <th>enron</th>\n",
              "      <td>927</td>\n",
              "    </tr>\n",
              "    <tr>\n",
              "      <th>like</th>\n",
              "      <td>923</td>\n",
              "    </tr>\n",
              "    <tr>\n",
              "      <th>2002</th>\n",
              "      <td>869</td>\n",
              "    </tr>\n",
              "    <tr>\n",
              "      <th>would</th>\n",
              "      <td>806</td>\n",
              "    </tr>\n",
              "    <tr>\n",
              "      <th>one</th>\n",
              "      <td>798</td>\n",
              "    </tr>\n",
              "    <tr>\n",
              "      <th>message</th>\n",
              "      <td>795</td>\n",
              "    </tr>\n",
              "    <tr>\n",
              "      <th>call</th>\n",
              "      <td>740</td>\n",
              "    </tr>\n",
              "    <tr>\n",
              "      <th>free</th>\n",
              "      <td>691</td>\n",
              "    </tr>\n",
              "    <tr>\n",
              "      <th>software</th>\n",
              "      <td>680</td>\n",
              "    </tr>\n",
              "    <tr>\n",
              "      <th>dear</th>\n",
              "      <td>651</td>\n",
              "    </tr>\n",
              "    <tr>\n",
              "      <th>know</th>\n",
              "      <td>644</td>\n",
              "    </tr>\n",
              "    <tr>\n",
              "      <th>email</th>\n",
              "      <td>629</td>\n",
              "    </tr>\n",
              "    <tr>\n",
              "      <th>url:</th>\n",
              "      <td>625</td>\n",
              "    </tr>\n",
              "    <tr>\n",
              "      <th>time</th>\n",
              "      <td>609</td>\n",
              "    </tr>\n",
              "    <tr>\n",
              "      <th>start</th>\n",
              "      <td>604</td>\n",
              "    </tr>\n",
              "    <tr>\n",
              "      <th>linguistics</th>\n",
              "      <td>598</td>\n",
              "    </tr>\n",
              "  </tbody>\n",
              "</table>\n",
              "</div><br><label><b>dtype:</b> int64</label>"
            ]
          },
          "metadata": {},
          "execution_count": 6
        }
      ]
    },
    {
      "cell_type": "markdown",
      "metadata": {
        "id": "hppSOGN6BMWi"
      },
      "source": [
        "Plot a histogram of the occurrences of tokens.\n",
        "\n",
        "What do you notice about the frequency of occurrence of different tokens? How does it look?"
      ]
    },
    {
      "cell_type": "code",
      "execution_count": 7,
      "metadata": {
        "colab": {
          "base_uri": "https://localhost:8080/",
          "height": 456
        },
        "id": "Sst43EdzBMWj",
        "outputId": "972096ff-0602-437c-f8ef-e5d524210ef7"
      },
      "outputs": [
        {
          "output_type": "display_data",
          "data": {
            "text/plain": [
              "<Figure size 1000x400 with 1 Axes>"
            ],
            "image/png": "[encoded data removed]"
          },
          "metadata": {}
        }
      ],
      "source": [
        "# histogram plot of top 50 tokens\n",
        "\n",
        "plt.figure(figsize=(10, 4))\n",
        "token_counts.head(50).plot(kind=\"bar\")\n",
        "plt.title(\"Most Common Tokens in Emails\")\n",
        "plt.ylabel(\"Frequency\")\n",
        "plt.xlabel(\"Token\")\n",
        "plt.show()"
      ]
    },
    {
      "cell_type": "markdown",
      "source": [
        "The frequency of occurrence of different tokens shows a strongly right skewed distribution that resembles a long-tail. The histogram shows diminishing returns with the most dramatic drop at the 1st set of frequent tokens and each subsequent additional token with a smaller frequency. The most common word \"new\" occurs 2x as much as the 12th most frequent \"free\". We can see that a select few tokens occur very frequently while the majority stabilize at a frequency around 400."
      ],
      "metadata": {
        "id": "bvX5i8UmBgP4"
      }
    },
    {
      "cell_type": "markdown",
      "metadata": {
        "id": "L1hvko_PBMWj"
      },
      "source": [
        "### Q2.\n",
        "\n",
        "Load `Phishing_clean.parquet`. This is the text from the e-mails broken into the most common 2,711 tokens and one-hot-encoded as features/covariates. So each row is an e-mail, the `Email Type` takes the value 1 if it's a scam and 0 otherwise, and every other column is a word or symbol that occurs in at least 15 e-mails.\n",
        "\n",
        "1. Perform an 80/20 train-test split of the data.\n",
        "2. Run a regression of $y$ on the one-hot-encoded emails. What is the $R^2$ on the test set? On the training set?\n",
        "3. What words have the largest coefficients in absolute value and most strongly influence predictions?"
      ]
    },
    {
      "cell_type": "code",
      "execution_count": null,
      "metadata": {
        "id": "tE3RpaC9BMWj"
      },
      "outputs": [],
      "source": [
        "# 80/20 train-test split on data\n",
        "\n",
        "\n",
        "# regression of y on on-hot-encoded email\n",
        "\n",
        "\n",
        "# words w/ largest coefficients in absolute value and strongly influence predictions"
      ]
    },
    {
      "cell_type": "markdown",
      "source": [
        "The words that have the largest coefficients and have the strongtest impact on predictions are _______."
      ],
      "metadata": {
        "id": "x1S8El8IBzis"
      }
    },
    {
      "cell_type": "markdown",
      "metadata": {
        "id": "mLo_bg9DBMWj"
      },
      "source": [
        "### Q3.\n",
        "\n",
        "Take the matrix of one-hot-encoded tokens (the data, less the outcome variable, `Email Type`) and perform a principal components analysis decomposition with two components. Plot the first two principal components in a scatter plot, and hue the points by whether they are a phishing scam or not. Do you notice any patterns?"
      ]
    },
    {
      "cell_type": "code",
      "execution_count": null,
      "metadata": {
        "id": "AHlmD-NGBMWj"
      },
      "outputs": [],
      "source": [
        "# matrix of one-hot-encoded tokens\n",
        "\n",
        "# pca analysis decomp\n",
        "\n",
        "# scatterplot of first 2 components"
      ]
    },
    {
      "cell_type": "markdown",
      "source": [
        "I notice multiple patterns. I see that ____."
      ],
      "metadata": {
        "id": "krR5oLw0B_Q_"
      }
    },
    {
      "cell_type": "markdown",
      "metadata": {
        "id": "KkB85OpDBMWj"
      },
      "source": [
        "### Q4.\n",
        "\n",
        "Run a linear regression of $y$ on the first 2,610 principal components of $X$. What is the $R^2$ on the training and test sets? (I used cross validation to determine that 2,610 was approximately optimal, but not all 2,711 components.)\n",
        "\n",
        "How does this performance compare to the linear regression?"
      ]
    },
    {
      "cell_type": "code",
      "execution_count": null,
      "metadata": {
        "id": "W76eMs6tBMWj"
      },
      "outputs": [],
      "source": [
        "# linear regression of y\n",
        "\n",
        "\n",
        "# R squared on training & test sets\n",
        "\n",
        "# comparison?"
      ]
    },
    {
      "cell_type": "markdown",
      "source": [
        "This performance compares to the linear regression as it ____."
      ],
      "metadata": {
        "id": "QuSaeQSpCH-e"
      }
    },
    {
      "cell_type": "markdown",
      "metadata": {
        "id": "UPD4sOxABMWk"
      },
      "source": [
        "### Q5.\n",
        "\n",
        "Explain briefly in your own words what the advantage is in using the principal components to run this high-dimensional regression, rather than the original data."
      ]
    },
    {
      "cell_type": "markdown",
      "source": [
        "The advantage in using prinicpal components to run a high-dimensional regression as opposed to the original data is that ______."
      ],
      "metadata": {
        "id": "LtOteet2CLUX"
      }
    }
  ],
  "metadata": {
    "kernelspec": {
      "display_name": "Python 3 (ipykernel)",
      "language": "python",
      "name": "python3"
    },
    "language_info": {
      "codemirror_mode": {
        "name": "ipython",
        "version": 3
      },
      "file_extension": ".py",
      "mimetype": "text/x-python",
      "name": "python",
      "nbconvert_exporter": "python",
      "pygments_lexer": "ipython3",
      "version": "3.10.18"
    },
    "colab": {
      "provenance": []
    }
  },
  "nbformat": 4,
  "nbformat_minor": 0
}